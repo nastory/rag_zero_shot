{
 "cells": [
  {
   "cell_type": "markdown",
   "metadata": {},
   "source": [
    " "
   ]
  },
  {
   "cell_type": "markdown",
   "metadata": {},
   "source": [
    "# <center>RAGs to Riches: Using RAG for Solving Zero-Shot Multi-label Classification of Documents</center>\n",
    "<center>By Nigel Story</center>"
   ]
  },
  {
   "cell_type": "markdown",
   "metadata": {},
   "source": [
    "## Contents\n",
    "\n",
    "* [1. Introduction](#intro)\n",
    "    * [1.1 Overview of Retrieval Augmented Generation (RAG)](#rag)\n",
    "    * [1.2 RAG as a Document Classifier](#rag-classifier)\n",
    "    * [1.3 About the Data](#about-data)\n",
    "    * [1.4 Packages and Setup](#packages)\n",
    "* [2. Basic RAG Pipeline](#basic-rag)\n",
    "* [3. RAG as a Zero-Shot Document Multi-label Classifier](#zero-shot)\n",
    "    * [1.1 Parallel Prompting Implementation](#parallel)\n",
    "* [4. Conclusion](#conclusion)"
   ]
  },
  {
   "cell_type": "markdown",
   "metadata": {},
   "source": [
    "## Introduction <a class='anchor' id='intro'></a>\n",
    "\n",
    "Retrieval Augmented Generation (RAG) is one of the most popular techniques for implementing large language models (LLMs) and offers an easy win for companies looking to get on board with the latest developments in artificial intelligence (AI). However, apart from productivity tools like chatbots and Q&A services, RAG has struggled to provide any use cases that drive value in the same way as traditional machine learning and natural language processing. While Q&A services do improve companies' efficiency by putting more information at the fingertips of their employees, the value can be hard to quantify.\n",
    "\n",
    "In this project, I offer a RAG-powered solution that drives value in a more direct and measurable way, by acting as a zero-shot multi-label classifier."
   ]
  },
  {
   "cell_type": "markdown",
   "metadata": {},
   "source": [
    "### Overview of Retrieval Augmented Generation (RAG) <a class='anchor' id='rag'></a>\n",
    "\n",
    "RAG is, at its core, just a bit of clever prompting where you ask a question of an LLM while simultaneously providing the LLM with the information it needs to answer the question.\n",
    "\n",
    "You can imagine handing a person a history textbook and asking them \"What year was George Washington born?\" The person would be able to look the answer up in the textbook, and this task would be even easier for them if we only provided them with the chunks of text from the book that spoke about George Washington. This is exactly what a RAG system does.\n",
    "\n",
    "The first step of RAG is creating a knowledge bank, or vector store. In the context of the example above, this would be taking the history book and creating a searchable database from its text. This is acheived by taking chunks of the text, vectorizing the chunks with the encoding side of a transformer model, and storing the embeddings in a vector database, where records can be retrieved based on vector similarity.\n",
    "\n",
    "Next, when a user asks a question about the source material, the question is embedded using the same model used to embed the source material, and a similarity search is executed against the knowledge bank, retrieving the chunks of text that pertain to the question that's being asked.\n",
    "\n",
    "The question, along with the context retrieved from the knowledge bank, are then sent to an LLM, which responds with the answer to the question based on the provided context.\n",
    "\n",
    "### RAG as a Document Classifier <a class='anchor' id='rag-classifier'></a>\n",
    "\n",
    "One of the most popular uses of RAG within industry is providing users with a way of engaging with largs repositories of text information: think along the lines of providing employees with the ability to ask questions about HR documents, benefits, or standard operating procedures. You could also envision legal departments being able to engage with long and complex documents. Typically, knowledge banks would be composed of corpi of many documents, allowing answers to be compiled from diverse sets of sources, but by creating smaller knowledge banks from single documents and asking specific and intentional questions, one could transform RAG into a robust zero-shot classifier model.\n",
    "\n",
    "Imagine a simple classification use case where you want to simply classify a book as \"Romance\" or \"Sci-Fi.\" You could create a knowledge bank from the book, and then ask a prompt like, \"Which genre best applies to this book: Romance or Sci-Fi?\" Now this wouldn't be the best use of LLM resources, since this could easily be done with classical ML (or even just looking at the cover of the book). But now imagine you have a set of questions that require more knowledge of the book's text: Is there a plot twist? Is it appropriate for teens? Does it contain any illicit themes? Questions like these would require one to spend hours fully reading the book to ascertain the answers, but a RAG application could answer them in less than a minute (probably).\n",
    "\n",
    "Now imagine a simlilar use case applied to a company's contracts. Does the contract contain a lease agreement? Is the payment structure based on progress milestones or a payment dates? Does it contain any rebates or warrantees? These are questions a legal associate could spend a significant amount of time trying to answer by reading and searching through the contract. Using RAG to address such a use case could reduce this time to essentially nothing. And with RAG systems' ability to provide the sources from which answers were obtained, the legal analyst would have the ability to double-check any answer the LLM provided.\n",
    "\n",
    "Each of these questions could be framed as a binary classification problem solvable, zero-shot, using RAG.\n",
    "\n",
    "### About the Data <a class='anchor' id='about-data'></a>\n",
    "\n",
    "As the data set for this project, we'll use the Jupyter Notebooks of my personal data science projects, rendered as HTML, performing a multi-label classification task to assign which machine learning concepts relate to the project from a list of possible concepts. \n"
   ]
  },
  {
   "cell_type": "markdown",
   "metadata": {},
   "source": [
    "### Packages and Setup <a class='anchor' id='packages'></a>\n",
    "\n",
    "This project will mostly depend on LangChain for orchestrating the document processing, creation of the knowledge bank, and the prompting. To keep things cheap, we'll use the open-source Ollama model for our embeddings and LLM, and FAISS as an in-memory vector database."
   ]
  },
  {
   "cell_type": "code",
   "execution_count": 140,
   "metadata": {},
   "outputs": [],
   "source": [
    "import os\n",
    "import multiprocessing\n",
    "import time\n",
    "\n",
    "# LLMs\n",
    "from langchain_community.llms import Ollama\n",
    "from langchain_community.embeddings import OllamaEmbeddings\n",
    "\n",
    "# Text prep & vector store\n",
    "from langchain.document_loaders import BSHTMLLoader\n",
    "from langchain_text_splitters import RecursiveCharacterTextSplitter\n",
    "from langchain_community.vectorstores import FAISS\n",
    "\n",
    "# RAG\n",
    "from langchain_core.prompts import ChatPromptTemplate\n",
    "from langchain.schema.runnable import RunnablePassthrough\n",
    "from langchain_core.output_parsers import StrOutputParser\n"
   ]
  },
  {
   "cell_type": "markdown",
   "metadata": {},
   "source": [
    "## Basic RAG Pipeline <a class='anchor' id='basic-rag'></a>\n",
    "\n",
    "Let's start by building a simple RAG pipeline to allow questions to be asked of my <a href='https://nigelstory.com/acnh'>Animal Crossing time-series clustering</a> project. We'll start by reading in the HTML document, splitting it into chunks, and creating the knowleddge bank.\n",
    "\n",
    "First, let's set the path for where the project HTML is stored and load in the LLMs."
   ]
  },
  {
   "cell_type": "code",
   "execution_count": 11,
   "metadata": {},
   "outputs": [],
   "source": [
    "# projects directory\n",
    "DOC_PATH = '/home/nastory/repos/nigelstorydata_flask/nigelstorydata/templates/'"
   ]
  },
  {
   "cell_type": "code",
   "execution_count": 77,
   "metadata": {},
   "outputs": [],
   "source": [
    "# load Ollama models\n",
    "llm = Ollama(model='llama3', temperature=0)\n",
    "embedding = OllamaEmbeddings(model='llama3')"
   ]
  },
  {
   "cell_type": "markdown",
   "metadata": {},
   "source": [
    "Let's preview the text."
   ]
  },
  {
   "cell_type": "code",
   "execution_count": 13,
   "metadata": {},
   "outputs": [
    {
     "name": "stdout",
     "output_type": "stream",
     "text": [
      "{% extends 'base.html' %}\n",
      "{% block content %}\n",
      "  \n",
      "\n",
      "<title>Animal Crossing New Horizons, the Stalk Market</title>\n",
      "\n",
      "<script src=\"https://cdnjs.cloudflare.com/ajax/libs/require.js/2.1.10/require.min.js\"><\n"
     ]
    }
   ],
   "source": [
    "test_file = os.path.join(DOC_PATH, 'acnh.html')\n",
    "with open(test_file, 'r') as f:\n",
    "    txt = f.read()\n",
    "\n",
    "print(txt[:200])"
   ]
  },
  {
   "cell_type": "markdown",
   "metadata": {},
   "source": [
    "We'll use LangChain's BeautifulSoup HTML Loader to read in and parse the project file. We'll then split the project text into 1,000 character chunks with a 100-character overlap between chunks. We'll then use the Ollama embedding model to create our FAISS vector database."
   ]
  },
  {
   "cell_type": "code",
   "execution_count": 22,
   "metadata": {},
   "outputs": [],
   "source": [
    "loader = BSHTMLLoader(test_file)\n",
    "docs = loader.load()"
   ]
  },
  {
   "cell_type": "code",
   "execution_count": 23,
   "metadata": {},
   "outputs": [],
   "source": [
    "splitter = RecursiveCharacterTextSplitter(\n",
    "    chunk_size=1000,\n",
    "    chunk_overlap=100\n",
    ")"
   ]
  },
  {
   "cell_type": "code",
   "execution_count": 27,
   "metadata": {},
   "outputs": [],
   "source": [
    "documents = splitter.split_documents(docs)\n",
    "vector_store = FAISS.from_documents(documents, embedding)"
   ]
  },
  {
   "cell_type": "markdown",
   "metadata": {},
   "source": [
    "Now we'll create the retriever, which will allow us to run similarity searches against our vector database."
   ]
  },
  {
   "cell_type": "code",
   "execution_count": 28,
   "metadata": {},
   "outputs": [],
   "source": [
    "retriever = vector_store.as_retriever()"
   ]
  },
  {
   "cell_type": "markdown",
   "metadata": {},
   "source": [
    "Next we'll create our prompt template. This is perhaps the most important step in the RAG process, as it allows us to determine the behavior of our LLM and pass through the questions and the context chunks retrieved by the retriever. Through our prompting, we can determine what kind of classifier our application will behave as later on. For now, we'll just have it behave as a Q&A service."
   ]
  },
  {
   "cell_type": "code",
   "execution_count": 39,
   "metadata": {},
   "outputs": [],
   "source": [
    "prompt_template = \"\"\"\n",
    "You are a question answer service. Given the provided context, which comes\n",
    "from a machine learning project composed in Jupyter Notebooks by Nigel Story,\n",
    "answer the question below.\n",
    "\n",
    "<context>\n",
    "{context}\n",
    "</context>\n",
    "\n",
    "Question: {question}\n",
    "\"\"\""
   ]
  },
  {
   "cell_type": "code",
   "execution_count": 40,
   "metadata": {},
   "outputs": [],
   "source": [
    "prompt = ChatPromptTemplate.from_template(prompt_template)"
   ]
  },
  {
   "cell_type": "markdown",
   "metadata": {},
   "source": [
    "Now we'll compose our retriever, prompt, and LLM model into a pipeline into which we can pass our questions."
   ]
  },
  {
   "cell_type": "code",
   "execution_count": 41,
   "metadata": {},
   "outputs": [],
   "source": [
    "rag_chain = (\n",
    "    {'context': retriever, 'question': RunnablePassthrough()}\n",
    "    | prompt\n",
    "    | llm\n",
    "    | StrOutputParser()\n",
    ")"
   ]
  },
  {
   "cell_type": "markdown",
   "metadata": {},
   "source": [
    "Let's ask our model a question!"
   ]
  },
  {
   "cell_type": "code",
   "execution_count": 44,
   "metadata": {},
   "outputs": [
    {
     "name": "stdout",
     "output_type": "stream",
     "text": [
      "Based on the provided context from the Jupyter Notebooks, some Machine Learning (ML) techniques used in this project include:\n",
      "\n",
      "1. **Random Forest Classification**: This is a popular ensemble learning method that combines multiple decision trees to improve predictive accuracy.\n",
      "2. **Artificial Neural Network (ANN) classifier**: A type of feedforward neural network designed for classification tasks.\n",
      "\n",
      "Additionally, the context mentions the use of:\n",
      "\n",
      "3. **LabelEncoder()**: A pre-processing technique used to convert categorical labels into numerical representations.\n",
      "4. **to_categorical()**: A function used to convert integer labels into one-hot encoded vectors.\n",
      "\n",
      "These ML techniques are likely used in combination with other tools and libraries (e.g., scikit-learn, TensorFlow) to analyze and predict the trends of turnip prices in Animal Crossing New Horizons.\n"
     ]
    }
   ],
   "source": [
    "res = rag_chain.invoke(\"what are some of the ML techniques used in this project?\")\n",
    "print(res)"
   ]
  },
  {
   "cell_type": "markdown",
   "metadata": {},
   "source": [
    "From this answer, one can definitely see the benefits of RAG. Without having to even look at this project, you could get a good idea of what it's about and which ML techniques were used. \n",
    "\n",
    "Now let's formalize this pipeline and turn it into a zero-shot classifier."
   ]
  },
  {
   "cell_type": "markdown",
   "metadata": {},
   "source": [
    "## RAG as a Zero-Shot Document Multi-label Classifier <a class='anchor' id='zero-shot'></a>\n",
    "\n",
    "Using the same process above, let's rework the prompting to create a multi-label classifier rather than a Q&A service. Multi-label classification is a more challenging use case than typical classificatino tasks, requiring more data and more advanced ML techniques to develop models. But piggy-backing off of pre-trained LLMs allows us to get reliable multi-label predictions without any additional training or even any additional data, aka, zero-shot.\n",
    "\n",
    "In the code cell below, we'll define a RAG pipeline that will allow a user to load in an HTML document along with a list of possible labels to be assigned to the document, and the LLM will decide which labels best apply to the document. For my projects, I'll try to label them according to machine learning concepts that are used within the projects."
   ]
  },
  {
   "cell_type": "code",
   "execution_count": 141,
   "metadata": {},
   "outputs": [],
   "source": [
    "def load_html_document(file_path):\n",
    "    \"\"\"Load in a project HTML document.\n",
    "    \"\"\"\n",
    "\n",
    "    loader = BSHTMLLoader(file_path)\n",
    "    doc = loader.load()\n",
    "\n",
    "    return doc\n",
    "\n",
    "\n",
    "def chunk_document(doc, chunk_size=1000, chunk_overlap=100):\n",
    "    \"\"\"Split a document into text chunks for embedding.\n",
    "    \"\"\"\n",
    "\n",
    "    splitter = RecursiveCharacterTextSplitter(\n",
    "            chunk_size=chunk_size,\n",
    "            chunk_overlap=chunk_overlap\n",
    "    )\n",
    "\n",
    "    documents = splitter.split_documents(doc)\n",
    "\n",
    "    return documents\n",
    "\n",
    "\n",
    "def rag_retriever(documents, embedding):\n",
    "    \"\"\"Create the vector database and the retriever\n",
    "    to execute RAG.\n",
    "    \"\"\"\n",
    "\n",
    "    vector_store = FAISS.from_documents(documents, embedding)\n",
    "    retriever = vector_store.as_retriever()\n",
    "\n",
    "    return retriever\n",
    "\n",
    "\n",
    "def get_rag_prompt(classifier_prompt):\n",
    "    \"\"\"Create LangChain prompt template object.\n",
    "    \"\"\"\n",
    "\n",
    "    prompt = ChatPromptTemplate.from_template(classifier_prompt)\n",
    "\n",
    "    return prompt\n",
    "\n",
    "\n",
    "def generate_questions(labels):\n",
    "    \"\"\"Generate questions to pass through the RAG pipeline\n",
    "    based on the user-provided possible labels.\n",
    "    \"\"\"\n",
    "\n",
    "    question_template = \"Does this project relate to {} in a significant way?\"\n",
    "    labels_questions = [(label, question_template.format(label)) for label in labels]\n",
    "\n",
    "    return labels_questions\n",
    "\n",
    "\n",
    "def zero_shot_mutli_label(file_path, labels, llm, embedding):\n",
    "    \"\"\"Ingest an HTML document and a list of possible labels and\n",
    "    execute zero-shot multi-label classification.\n",
    "    \"\"\"\n",
    "\n",
    "    classifier_prompt = \"\"\"\n",
    "    You are a helpful yes or no answer service. Given the provided context, which comes\n",
    "    from a machine learning project composed in Jupyter Notebooks by Nigel Story,\n",
    "    answer the question below. Take your time and find the correct answer from\n",
    "    the context. Only respond with \"Yes\" or \"No\".\n",
    "\n",
    "    <context>\n",
    "    {context}\n",
    "    </context>\n",
    "\n",
    "    Question: {question}\n",
    "    \"\"\"\n",
    "\n",
    "    text = load_html_document(file_path)\n",
    "    documents = chunk_document(text, chunk_size=1000, chunk_overlap=100)\n",
    "    retriever = rag_retriever(documents, embedding)\n",
    "    prompt = get_rag_prompt(classifier_prompt)\n",
    "    \n",
    "    rag_chain = (\n",
    "        {'context': retriever, 'question': RunnablePassthrough()}\n",
    "        | prompt\n",
    "        | llm\n",
    "        | StrOutputParser()\n",
    "    )\n",
    "\n",
    "    labels_questions = generate_questions(labels)\n",
    "\n",
    "    start = time.time()\n",
    "\n",
    "    preds = [(q[0], rag_chain.invoke(q[1])) for q in labels_questions]\n",
    "\n",
    "    print(f\"time to process prompts: {time.time() - start}s\")\n",
    "\n",
    "    return preds\n",
    "\n",
    "\n",
    "def filter_preds(preds):\n",
    "    \"\"\"Filter binary outputs from LLM to only\n",
    "    return the multi-label predictions.\n",
    "    \"\"\"  \n",
    "    return [p[0] for p in preds if p[1] == 'Yes']"
   ]
  },
  {
   "cell_type": "markdown",
   "metadata": {},
   "source": [
    "Now that the pipeline's built, we'll just define a somewhat random list of concepts that could apply to my personal python projects."
   ]
  },
  {
   "cell_type": "code",
   "execution_count": 166,
   "metadata": {},
   "outputs": [],
   "source": [
    "possible_labels = [\n",
    "    'SQL',\n",
    "    'Classification',\n",
    "    'Clustering',\n",
    "    'Regression',\n",
    "    'Web Development',\n",
    "    'Image Analytics',\n",
    "    'Anomaly Detection',\n",
    "    'Simulation',\n",
    "    'NLP'\n",
    "]"
   ]
  },
  {
   "cell_type": "markdown",
   "metadata": {},
   "source": [
    "Let's run the prediction pipeline and look at the results.\n",
    "\n",
    "The project we're running through the pipeline uses a variety of techniques and technologies, but at its core, it's a clustering analysis followed by classification."
   ]
  },
  {
   "cell_type": "code",
   "execution_count": 143,
   "metadata": {},
   "outputs": [
    {
     "name": "stdout",
     "output_type": "stream",
     "text": [
      "time to process prompts: 13.631207942962646s\n"
     ]
    }
   ],
   "source": [
    "acnh_preds = zero_shot_mutli_label(test_file, possible_labels, llm, embedding)"
   ]
  },
  {
   "cell_type": "code",
   "execution_count": 144,
   "metadata": {},
   "outputs": [
    {
     "data": {
      "text/plain": [
       "['Classification', 'Clustering', 'Regression', 'Simulation']"
      ]
     },
     "execution_count": 144,
     "metadata": {},
     "output_type": "execute_result"
    }
   ],
   "source": [
    "filter_preds(acnh_preds)"
   ]
  },
  {
   "cell_type": "markdown",
   "metadata": {},
   "source": [
    "The model captured the Classification and Clustering categories, and it added the Regression and Simulation categories. These last two categories are ones that I had forgotten about, but there are aspects of both used in the project. So great result that, funnily enough, did better than I might have just from memory!\n",
    "\n",
    "However, compared to classical ML, 13 seconds is pretty slow to make a single prediction, which is why this technique would mainly benefit complex classification tasks on large documents or corpi. But let's see if we can speed things up a little with parallel processing."
   ]
  },
  {
   "cell_type": "markdown",
   "metadata": {},
   "source": [
    "### Parallel Prompting Implementation <a class='anchor' id='parallel'></a>\n",
    "\n",
    "We can speed up the processing time a bit and make the model robust to high-dimensional multi-label outputs by using parallel processing to execute the prompt created for each label."
   ]
  },
  {
   "cell_type": "code",
   "execution_count": 163,
   "metadata": {},
   "outputs": [],
   "source": [
    "def pool_invoke(label, prompt, rag_chain):\n",
    "    '''Global picklable func for use in Pool processing.\n",
    "    '''\n",
    "\n",
    "    response = rag_chain.invoke(prompt)\n",
    "\n",
    "    return label, response\n",
    "\n",
    "\n",
    "def parallel_prompt_zero_shot_mutli_label(file_path, labels, llm, embedding, n_jobs=1):\n",
    "    \"\"\"Parallelized zero-shot multi-label document classifier.\n",
    "    \"\"\"\n",
    "\n",
    "    classifier_prompt = \"\"\"\n",
    "    You are a helpful yes or no answer service. Given the provided context, which comes\n",
    "    from a machine learning project composed in Jupyter Notebooks by Nigel Story,\n",
    "    answer the question below. Take your time and find the correct answer from\n",
    "    the context. Only respond with \"Yes\" or \"No\".\n",
    "\n",
    "    <context>\n",
    "    {context}\n",
    "    </context>\n",
    "\n",
    "    Question: {question}\n",
    "    \"\"\"\n",
    "\n",
    "    text = load_html_document(file_path)\n",
    "    documents = chunk_document(text, chunk_size=1000, chunk_overlap=100)\n",
    "    retriever = rag_retriever(documents, embedding)\n",
    "    prompt = get_rag_prompt(classifier_prompt)\n",
    "    \n",
    "    rag_chain = (\n",
    "        {'context': retriever, 'question': RunnablePassthrough()}\n",
    "        | prompt\n",
    "        | llm\n",
    "        | StrOutputParser()\n",
    "    )\n",
    "\n",
    "    labels_questions = generate_questions(labels)\n",
    "\n",
    "    start = time.time()\n",
    "\n",
    "    if n_jobs == -1:\n",
    "\n",
    "        def mp_invoke(label, prompt, pred_dict):\n",
    "            result = rag_chain.invoke(prompt)\n",
    "            pred_dict[label] = result\n",
    "\n",
    "        # use max possible processes\n",
    "        manager = multiprocessing.Manager()\n",
    "        pred_dict = manager.dict()\n",
    "        jobs = []\n",
    "        for question in labels_questions:\n",
    "            p = multiprocessing.Process(target=mp_invoke, args=(question[0], question[1], pred_dict))\n",
    "            jobs.append(p)\n",
    "            p.start()\n",
    "\n",
    "        for p in jobs:\n",
    "            p.join()\n",
    "\n",
    "        results = pred_dict.items()\n",
    "\n",
    "    else:\n",
    "        # use specified number\n",
    "        pool = multiprocessing.Pool(processes=n_jobs)\n",
    "        results = [pool.apply(pool_invoke, args=(question[0], question[1], rag_chain)) for question in labels_questions]\n",
    "\n",
    "    print(f\"time to process prompts: {time.time() - start}s\")\n",
    "\n",
    "    return results"
   ]
  },
  {
   "cell_type": "code",
   "execution_count": 164,
   "metadata": {},
   "outputs": [
    {
     "name": "stdout",
     "output_type": "stream",
     "text": [
      "time to process prompts: 11.637054204940796s\n"
     ]
    }
   ],
   "source": [
    "parallel_acnh_preds = parallel_prompt_zero_shot_mutli_label(test_file, possible_labels, llm, embedding, n_jobs=-1)"
   ]
  },
  {
   "cell_type": "code",
   "execution_count": 165,
   "metadata": {},
   "outputs": [
    {
     "data": {
      "text/plain": [
       "['Classification', 'Clustering', 'Regression', 'Simulation']"
      ]
     },
     "execution_count": 165,
     "metadata": {},
     "output_type": "execute_result"
    }
   ],
   "source": [
    "filter_preds(parallel_acnh_preds)"
   ]
  },
  {
   "cell_type": "markdown",
   "metadata": {},
   "source": [
    "As expected, the time save is pretty marginal from parallel prompting. A more effective use of parallelization would likely be in creating the vector stores and retrievers. I hope to explore this in future projects."
   ]
  },
  {
   "cell_type": "markdown",
   "metadata": {},
   "source": [
    "## Conclusion <a class='anchor' id='conclusion'></a>\n",
    "\n",
    "This approach to RAG -- using it as a vehicle for accomplishing complex classification tasks on large documents or corpi -- would provide business with value adds similar to the savings produced by classical ML, but the development time to produce these savings are drastically lessened. Rather than months of feature engineering, model selection, hyperparameter tuning, and training, and AI engineer could very quickly spin up a RAG-based zero-shot model that would produce reliable results without much effort. This is where I see a lot of savings from AI coming from in future.\n",
    "\n",
    "In follow-up projects, I'd like to examine cross-contamination of source materials from creating larger vector stores and trying to classify documents within the store, rather than creating a new vector store for each document. This could produce significant time savings, and would be worth comparison to the parallel creation of vectore stores for individual documents.\n",
    "\n",
    "### Thanks for reading!"
   ]
  },
  {
   "cell_type": "markdown",
   "metadata": {},
   "source": [
    " "
   ]
  }
 ],
 "metadata": {
  "kernelspec": {
   "display_name": "rag_llm",
   "language": "python",
   "name": "python3"
  },
  "language_info": {
   "codemirror_mode": {
    "name": "ipython",
    "version": 3
   },
   "file_extension": ".py",
   "mimetype": "text/x-python",
   "name": "python",
   "nbconvert_exporter": "python",
   "pygments_lexer": "ipython3",
   "version": "3.10.12"
  }
 },
 "nbformat": 4,
 "nbformat_minor": 2
}
